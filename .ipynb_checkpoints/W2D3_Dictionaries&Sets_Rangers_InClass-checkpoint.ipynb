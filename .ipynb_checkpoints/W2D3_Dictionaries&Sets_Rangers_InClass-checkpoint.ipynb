{
 "cells": [
  {
   "cell_type": "markdown",
   "metadata": {},
   "source": [
    "# Dictionaries & Sets"
   ]
  },
  {
   "cell_type": "markdown",
   "metadata": {},
   "source": [
    "## Tasks Today:\n",
    "\n",
    "1) Dictionary <br>\n",
    " &nbsp;&nbsp;&nbsp;&nbsp; a) Declaring (key, value) <br>\n",
    " &nbsp;&nbsp;&nbsp;&nbsp; b) Accessing Values <br>\n",
    " &nbsp;&nbsp;&nbsp;&nbsp; ------ Exercise #1 - Print the eye color of each person in a double nested dict <br>\n",
    " &nbsp;&nbsp;&nbsp;&nbsp; c) Adding New Pairs <br>\n",
    " &nbsp;&nbsp;&nbsp;&nbsp; d) Modifying Values <br>\n",
    " &nbsp;&nbsp;&nbsp;&nbsp; e) Removing Key, Value Pairs <br>\n",
    " &nbsp;&nbsp;&nbsp;&nbsp; f) Looping a Dictionary <br>\n",
    " &nbsp;&nbsp;&nbsp;&nbsp; g) Looping Only Keys <br>\n",
    " &nbsp;&nbsp;&nbsp;&nbsp; h) Looping Only Values <br>\n",
    " &nbsp;&nbsp;&nbsp;&nbsp; ------ Exercise #2 - Create a Function that Prints All Key Value Pairs within a print .format()  <br>\n",
    " &nbsp;&nbsp;&nbsp;&nbsp; i) sorted() <br>\n",
    " &nbsp;&nbsp;&nbsp;&nbsp; j) Lists with Dictionaries <br>\n",
    " &nbsp;&nbsp;&nbsp;&nbsp; k) Dictionaries with Lists <br>\n",
    " &nbsp;&nbsp;&nbsp;&nbsp; l) Dictionaries with Dictionaries <br>\n",
    " &nbsp;&nbsp;&nbsp;&nbsp; ------ Exercise #3 - Write a Function that asks someone's name and address, and then stores that into a dictionary, which prints all names and addresses after they're done putting information in...  <br>\n",
    "2) Dictionaries vs. Lists (over time)<br>\n",
    "3) Set <br>\n",
    " &nbsp;&nbsp;&nbsp;&nbsp; a) Declaring <br>\n",
    " &nbsp;&nbsp;&nbsp;&nbsp; b) .add() <br>\n",
    " &nbsp;&nbsp;&nbsp;&nbsp; c) .remove() <br>\n",
    " &nbsp;&nbsp;&nbsp;&nbsp; d) .union() <br>\n",
    " &nbsp;&nbsp;&nbsp;&nbsp; e) .intersection() <br>\n",
    " &nbsp;&nbsp;&nbsp;&nbsp; f) .difference() <br>\n",
    " &nbsp;&nbsp;&nbsp;&nbsp; g) Frozen Set <br>\n",
    "4) Exercises <br>\n",
    " &nbsp;&nbsp;&nbsp;&nbsp; a) Build a Shopping Cart <br>\n",
    " &nbsp;&nbsp;&nbsp;&nbsp; b) Create Your Own Module <br>"
   ]
  },
  {
   "cell_type": "markdown",
   "metadata": {},
   "source": [
    "## Dictionary <br>\n",
    "<p>A collection of data with 'key:value' pairs. Dictionaries are ordered as of Python 3.6</p>"
   ]
  },
  {
   "cell_type": "markdown",
   "metadata": {},
   "source": [
    "##### Declaring (key, value)"
   ]
  },
  {
   "cell_type": "code",
   "execution_count": 9,
   "metadata": {},
   "outputs": [
    {
     "name": "stdout",
     "output_type": "stream",
     "text": [
      "{}\n",
      "{}\n",
      "{'Tom': '255 Main St', 'Jerry': '256 Main ST', '0': 'This is a zero'}\n"
     ]
    }
   ],
   "source": [
    "# keys should be unique\n",
    "# can use numbers or strings as keys\n",
    "d_1 = {}\n",
    "print(d_1)\n",
    "# or\n",
    "\n",
    "d_2 = dict()\n",
    "print(d_2)\n",
    "\n",
    "\n",
    "# d_2[\"some\"] = \"value\"\n",
    "\n",
    "# print(d_2)\n",
    "\n",
    "d_3 = {\n",
    "    \"Tom\": \"255 Main St\",\n",
    "    \"Jerry\": \"256 Main ST\",\n",
    "    \"0\": \"This is a zero\"\n",
    "}\n",
    "print(d_3)\n",
    "\n",
    "\n",
    "\n",
    "\n"
   ]
  },
  {
   "cell_type": "markdown",
   "metadata": {},
   "source": [
    "##### Accessing Values"
   ]
  },
  {
   "cell_type": "code",
   "execution_count": 6,
   "metadata": {},
   "outputs": [
    {
     "name": "stdout",
     "output_type": "stream",
     "text": [
      "255 Main St\n",
      "256 Main ST\n",
      "This is a zero\n"
     ]
    }
   ],
   "source": [
    "# dict[key]\n",
    "print(d_3[\"Tom\"])\n",
    "print(d_3[\"Jerry\"])\n",
    "print(d_3[0]) # careful with numbers as keys because it looks like a list index"
   ]
  },
  {
   "cell_type": "code",
   "execution_count": 8,
   "metadata": {},
   "outputs": [
    {
     "ename": "NameError",
     "evalue": "name 'name' is not defined",
     "output_type": "error",
     "traceback": [
      "\u001b[1;31m---------------------------------------------------------------------------\u001b[0m",
      "\u001b[1;31mNameError\u001b[0m                                 Traceback (most recent call last)",
      "Cell \u001b[1;32mIn[8], line 5\u001b[0m\n\u001b[0;32m      2\u001b[0m names_dict \u001b[38;5;241m=\u001b[39m {}\n\u001b[0;32m      4\u001b[0m \u001b[38;5;28;01mfor\u001b[39;00m i, names \u001b[38;5;129;01min\u001b[39;00m \u001b[38;5;28menumerate\u001b[39m(names):\n\u001b[1;32m----> 5\u001b[0m     names_dict[i] \u001b[38;5;241m=\u001b[39m \u001b[43mname\u001b[49m\n\u001b[0;32m      6\u001b[0m \u001b[38;5;28mprint\u001b[39m(names_dict)\n",
      "\u001b[1;31mNameError\u001b[0m: name 'name' is not defined"
     ]
    }
   ],
   "source": [
    "names = [\"Ryan\", \"Will\", \"Justin\", \"Alex\"]\n",
    "names_dict = {}\n",
    "\n",
    "for i, names in enumerate(names):\n",
    "    names_dict[i] = name\n",
    "print(names_dict)"
   ]
  },
  {
   "cell_type": "markdown",
   "metadata": {},
   "source": [
    "##### Accessing values with dict.get()"
   ]
  },
  {
   "cell_type": "code",
   "execution_count": 12,
   "metadata": {},
   "outputs": [
    {
     "name": "stdout",
     "output_type": "stream",
     "text": [
      "255 Main St\n",
      "None\n",
      "adress not found\n"
     ]
    }
   ],
   "source": [
    "#dict.get(key, value)\n",
    "\n",
    "d_3 = {\n",
    "    \"Tom\": \"255 Main St\",\n",
    "    \"Jerry\": \"256 Main ST\",\n",
    "    \"0\": \"This is a zero\"\n",
    "}\n",
    "print(d_3.get(\"Tom\"))\n",
    "print(d_3.get(\"Mark\"))\n",
    "print(d_3.get(\"Mark\", \"adress not found\"))"
   ]
  },
  {
   "cell_type": "markdown",
   "metadata": {},
   "source": [
    "## In-Class Exercise #1 - Print a formatted statement from the dictionary below <br>\n",
    "<p>The output should be '2018 Chevrolet Silverado'</p>"
   ]
  },
  {
   "cell_type": "code",
   "execution_count": 22,
   "metadata": {},
   "outputs": [
    {
     "name": "stdout",
     "output_type": "stream",
     "text": [
      "2018 Chevrolet Silverado\n",
      "2018 Chevrolet Silverado\n"
     ]
    }
   ],
   "source": [
    "# use the dict below\n",
    "truck = {\n",
    "    \"year\": 2018,\n",
    "    'make': 'Chevrolet',\n",
    "    'model': 'Silverado'\n",
    "}\n",
    "print(truck.get(\"year\"), truck.get(\"make\"), truck.get(\"model\"))\n",
    "\n",
    "print(f'{truck[\"year\"]} {truck[\"make\"]} {truck[\"model\"]}')\n",
    "\n",
    "\n"
   ]
  },
  {
   "cell_type": "markdown",
   "metadata": {},
   "source": [
    "##### Adding New Pairs"
   ]
  },
  {
   "cell_type": "code",
   "execution_count": 24,
   "metadata": {},
   "outputs": [
    {
     "name": "stdout",
     "output_type": "stream",
     "text": [
      "{'Tom': '257 Main St', 'Jerry': '256 Main ST', '0': 'This is a zero', 'Spike': '257 Main St', 'Tike': '257 Main St'}\n"
     ]
    }
   ],
   "source": [
    "# dict[key] = value\n",
    "\n",
    "d_3 = {\n",
    "    \"Tom\": \"255 Main St\",\n",
    "    \"Tom\": \"257 Main St\",\n",
    "    \"Jerry\": \"256 Main ST\",\n",
    "    \"0\": \"This is a zero\"\n",
    "}\n",
    "\n",
    "d_3[\"Spike\"] = \"257 Main St\"\n",
    "d_3[\"Tike\"] = \"257 Main St\"\n",
    "\n",
    "\n",
    "print(d_3)"
   ]
  },
  {
   "cell_type": "markdown",
   "metadata": {},
   "source": [
    "##### Modifying Values"
   ]
  },
  {
   "cell_type": "code",
   "execution_count": 30,
   "metadata": {},
   "outputs": [
    {
     "name": "stdout",
     "output_type": "stream",
     "text": [
      "{'Tom': '254 Main St', 'Jerry': '256 Main ST', '0': 'This is a zero', 'Spike': '257 Main St', 'Tike': '258 Main St60718'}\n",
      "{'Tom': '254 Main St', 'Jerry': '256 Main ST', '0': 'This is a zero', 'Spike': '257 Main St', 'Tike': '258 Main St'}\n",
      "<class 'str'>\n",
      "258 Main St 60561\n"
     ]
    }
   ],
   "source": [
    "# dict[key] = value\n",
    "print(d_3)\n",
    "d_3[\"Tike\"] = \"258 Main St\"\n",
    "d_3[\"Tom\"] = \"254 Main St\"\n",
    "\n",
    "print(d_3)\n",
    "\n",
    "print(type(d_3[\"Tike\"]))\n",
    "# \"258 Main St\" = \"258 Main St\" + \"60561\"\n",
    "d_3[\"Tike\"] = d_3[\"Tike\"] + \" 60561\"\n",
    "print(d_3[\"Tike\"])"
   ]
  },
  {
   "cell_type": "code",
   "execution_count": 36,
   "metadata": {},
   "outputs": [
    {
     "name": "stdout",
     "output_type": "stream",
     "text": [
      "{'Lando': 1}\n",
      "{'Lando': 1, 'Mega Man': 1}\n",
      "{'Lando': 1, 'Mega Man': 1, 'Cheetor': 1}\n",
      "{'Lando': 1, 'Mega Man': 1, 'Cheetor': 1, 'Charizard': 1}\n",
      "{'Lando': 2, 'Mega Man': 1, 'Cheetor': 1, 'Charizard': 1}\n",
      "{'Lando': 2, 'Mega Man': 2, 'Cheetor': 1, 'Charizard': 1}\n",
      "{'Lando': 3, 'Mega Man': 2, 'Cheetor': 1, 'Charizard': 1}\n",
      "{'Lando': 4, 'Mega Man': 2, 'Cheetor': 1, 'Charizard': 1}\n",
      "{'Lando': 4, 'Mega Man': 2, 'Cheetor': 1, 'Charizard': 2}\n"
     ]
    }
   ],
   "source": [
    "names_list = [\"Lando\", \"Mega Man\", \"Cheetor\", \"Charizard\", \"Lando\", \"Mega Man\", \"Lando\", \"Lando\", \"Charizard\"]\n",
    "count_dict = {}\n",
    "for name in names_list:\n",
    "    if name not in count_dict:\n",
    "        count_dict[name] = 1\n",
    "        print(count_dict)\n",
    "    else:\n",
    "         count_dict[name] += 1\n",
    "         print(count_dict)"
   ]
  },
  {
   "cell_type": "markdown",
   "metadata": {},
   "source": [
    "##### Removing Key, Value Pairs"
   ]
  },
  {
   "cell_type": "code",
   "execution_count": 46,
   "metadata": {},
   "outputs": [
    {
     "name": "stdout",
     "output_type": "stream",
     "text": [
      "{'bananas': 0, 'apples': 7}\n",
      "{'apples': 7}\n"
     ]
    }
   ],
   "source": [
    "# del dict[key]\n",
    "# del deletes anything\n",
    "#print(d_3)\n",
    "\n",
    "#del d_3['0'] \n",
    "\n",
    "#print(d_3)\n",
    "\n",
    "my_cart = {\n",
    "    \"bananas\": 0,\n",
    "    \"apples\": 7\n",
    "}\n",
    "print(my_cart)\n",
    "\n",
    "if my_cart[\"bananas\"] <= 0:\n",
    "    del my_cart[\"bananas\"]\n",
    "\n",
    "print(my_cart)"
   ]
  },
  {
   "cell_type": "markdown",
   "metadata": {},
   "source": [
    "### Looping a Dictionary"
   ]
  },
  {
   "cell_type": "markdown",
   "metadata": {},
   "source": [
    "##### Looping through items (key and values)"
   ]
  },
  {
   "cell_type": "code",
   "execution_count": 49,
   "metadata": {},
   "outputs": [
    {
     "name": "stdout",
     "output_type": "stream",
     "text": [
      "Tom lives at 254 Main St\n",
      "Jerry lives at 256 Main ST\n",
      "Spike lives at 257 Main St\n",
      "Tike lives at 258 Main St 60561\n",
      "Tom lives at 254 Main St\n",
      "Jerry lives at 256 Main ST\n",
      "Spike lives at 257 Main St\n",
      "Tike lives at 258 Main St 60561\n"
     ]
    }
   ],
   "source": [
    "# .items()\n",
    "# a, b, c = 1, 2, 3\n",
    "for name_address in d_3.items():\n",
    "    print(f\"{name_address[0]} lives at {name_address[1]}\") #index into the returned tuple\n",
    "    \n",
    "for name, address in d_3.items():\n",
    "    print(f\"{name} lives at {address}\")\n",
    "\n"
   ]
  },
  {
   "cell_type": "markdown",
   "metadata": {},
   "source": [
    "##### Looping Only Keys"
   ]
  },
  {
   "cell_type": "code",
   "execution_count": 54,
   "metadata": {},
   "outputs": [
    {
     "name": "stdout",
     "output_type": "stream",
     "text": [
      "{'Tom': '254 Main St', 'Jerry': '256 Main ST', 'Spike': '257 Main St', 'Tike': '258 Main St 60561'}\n",
      "Tom\n",
      "Jerry\n",
      "Spike\n",
      "Tike\n",
      "\n",
      "\n",
      "Tom\n",
      "Jerry\n",
      "Spike\n",
      "Tike\n",
      "dict_keys(['Tom', 'Jerry', 'Spike', 'Tike'])\n"
     ]
    }
   ],
   "source": [
    "# looping through a dictionary will default to the keys\n",
    "# or\n",
    "# .keys()\n",
    "print(d_3)\n",
    "for key in d_3:\n",
    "    print(key)\n",
    "\n",
    "print(\"\\n\")\n",
    "\n",
    "for key in d_3.keys():\n",
    "    print(key)\n",
    "\n",
    "print(d_3.keys())\n"
   ]
  },
  {
   "cell_type": "markdown",
   "metadata": {},
   "source": [
    "##### Looping Only Values"
   ]
  },
  {
   "cell_type": "code",
   "execution_count": 61,
   "metadata": {
    "scrolled": true
   },
   "outputs": [
    {
     "ename": "SyntaxError",
     "evalue": "invalid syntax (2961986146.py, line 12)",
     "output_type": "error",
     "traceback": [
      "\u001b[1;36m  Cell \u001b[1;32mIn[61], line 12\u001b[1;36m\u001b[0m\n\u001b[1;33m    elif value == \"257 Main St\"\u001b[0m\n\u001b[1;37m    ^\u001b[0m\n\u001b[1;31mSyntaxError\u001b[0m\u001b[1;31m:\u001b[0m invalid syntax\n"
     ]
    }
   ],
   "source": [
    "# .values()\n",
    "print(d_3)\n",
    "\n",
    "print(d_3.values())\n",
    "\n",
    "for value in d_3.values():\n",
    "    print(value)\n",
    "\n",
    "for value in d_3.values():\n",
    "    if value == \"254 Main St\":\n",
    "        print(\"Tom lives here!\")\n",
    "elif value == \"257 Main St\"\n",
    "    d_3[\"Spike\"] += \" 60561\"\n",
    "else:\n",
    "    print(value)\n",
    "\n"
   ]
  },
  {
   "cell_type": "markdown",
   "metadata": {},
   "source": [
    "## In-Class Exercise #2 - Create a Function that Prints All Key Value Pairs within a formatted string  <br>\n",
    "<p><b>Output should be:</b><br>\n",
    "Max has blue eyes<br>\n",
    "Lilly has brown eyes<br>\n",
    "Barney has blue eyes<br>\n",
    "etc.\n",
    "</p>"
   ]
  },
  {
   "cell_type": "code",
   "execution_count": 64,
   "metadata": {},
   "outputs": [
    {
     "name": "stdout",
     "output_type": "stream",
     "text": [
      "Max has blue eyes\n",
      "Lilly has brown eyes\n",
      "Barney has green eyes\n",
      "Ted has purple eyes\n",
      "Sasuke has sharingan eyes\n"
     ]
    }
   ],
   "source": [
    "# use the dict below\n",
    "people = {\n",
    "    'Max' : 'blue',\n",
    "    'Lilly' : 'brown',\n",
    "    'Barney' : 'green',\n",
    "    'Ted' : 'purple',\n",
    "    'Sasuke' : 'sharingan'    \n",
    "} \n",
    "\n",
    "for name, color in people.items():\n",
    "    print(f\"{name} has {color} eyes\")\n",
    "\n"
   ]
  },
  {
   "cell_type": "markdown",
   "metadata": {},
   "source": [
    "##### sorted()"
   ]
  },
  {
   "cell_type": "code",
   "execution_count": 69,
   "metadata": {},
   "outputs": [
    {
     "name": "stdout",
     "output_type": "stream",
     "text": [
      "[('Barney', 'green'), ('Lilly', 'brown'), ('Max', 'blue'), ('Sasuke', 'sharingan'), ('Ted', 'purple')]\n",
      "('Max', 'blue')\n",
      "blue\n"
     ]
    }
   ],
   "source": [
    "# sorts variables in order\n",
    "# sorted(dict.values()) or dict.keys() or dict.items()\n",
    "people = {\n",
    "    'Max' : 'blue',\n",
    "    'Lilly' : 'brown',\n",
    "    'Barney' : 'green',\n",
    "    'Ted' : 'purple',\n",
    "    'Sasuke' : 'sharingan'    \n",
    "}\n",
    "\n",
    "# print(\"Values\", sorted(people.values()))\n",
    "# print(\"keys\", sorted(people.keys()))\n",
    "# print(\"Key Value Pairs\", sorted(people.items()))\n",
    "\n",
    "sorted_items = sorted(people.items())\n",
    "print(sorted_items)\n",
    "\n",
    "print(sorted_items[2])\n",
    "print(sorted_items[2][1])\n"
   ]
  },
  {
   "cell_type": "markdown",
   "metadata": {},
   "source": [
    "##### List with Dictionaries"
   ]
  },
  {
   "cell_type": "code",
   "execution_count": 73,
   "metadata": {},
   "outputs": [
    {
     "name": "stdout",
     "output_type": "stream",
     "text": [
      "Kakashi\n",
      "Gaara\n",
      "Kakashi\n"
     ]
    }
   ],
   "source": [
    "shinobi = [\"Shikamaru\", \"Gaara\", \"Octopops\", {\"leaf_village\": \"Naturo\", \"leaf_village2\": \"Kakashi\"}]\n",
    "\n",
    "leaf_village = {\n",
    "    \"leaf_village\": \"Naturo\",\n",
    "    \"leaf_village2\": \"Kakashi\" \n",
    "}\n",
    "\n",
    "print(leaf_village[\"leaf_village2\"])\n",
    "\n",
    "\n",
    "print(shinobi[1])\n",
    "print(shinobi[3][\"leaf_village2\"])\n"
   ]
  },
  {
   "cell_type": "markdown",
   "metadata": {},
   "source": [
    "##### Dictionaries with Lists"
   ]
  },
  {
   "cell_type": "code",
   "execution_count": 78,
   "metadata": {},
   "outputs": [
    {
     "name": "stdout",
     "output_type": "stream",
     "text": [
      "90\n",
      "Laura\n"
     ]
    }
   ],
   "source": [
    "# be careful when using numbers as keys in dictionaries, don't confuse them with indexes\n",
    "random_data = {\n",
    "    \"list_1\" : [54, 65, 90],\n",
    "    \"names\" : [\"John\", \"Laura\", \"Bulbasaur\"]\n",
    "}\n",
    "\n",
    "print(random_data[\"list_1\"][2])\n",
    "print(random_data[\"names\"][1])"
   ]
  },
  {
   "cell_type": "markdown",
   "metadata": {},
   "source": [
    "##### Dictionaries with Dictionaries"
   ]
  },
  {
   "cell_type": "code",
   "execution_count": 79,
   "metadata": {
    "scrolled": true
   },
   "outputs": [
    {
     "name": "stdout",
     "output_type": "stream",
     "text": [
      "{'Ryan': {'Mexican': ['Tacos', 'Tortas', 'Arroz'], 'Desserts': ['Cheesecake', 'Pie', 'Cookies', 'Cupcakes']}, 'Alex': {'Candy': ['Troli Eggs', 'Lemonheads', 'Nerds Rope', 'Now & Later'], 'Protein': ['Chicken', 'Ground Turkey', 'Turkey Bacon', 'PB&J']}, 'Razvan': {'Italian': ['Pizza', 'Pasta', 'Salad'], 'Deserts': ['Pie', 'Crepes', 'Cake', 'Fruits']}, 'Mo': {'Korean': ['Kimchi Tofu Stir-Fry', 'Kimchi Stew', 'Japchae'], 'Drinks': ['Milk Foam Green Tea', 'Boba Milk Tea', 'Fruit Tea']}, 'Justin': {'Persian': ['Kebabs', 'Steak', 'Tahdig'], 'Italian': ['Penne all Vodka', 'Pizza', 'Pesto Gnocchi']}, 'Morgan': {'Mexican': ['fajitas', 'Burriatacos', 'Quesadillas'], 'italian': ['pizza', 'chicken Alfredo'], 'Dessert': ['Anything chocolate']}, 'Will': {'Pizza': ['Hawaiian', 'Deepdish', 'Pepperoni'], 'Candy': ['Hot Tamales', 'Snickers', 'Reeces', 'Twix']}}\n"
     ]
    }
   ],
   "source": [
    "# to get values, must traverse through keys\n",
    "\n",
    "food_dict = {\n",
    "    \"Ryan\": {\n",
    "        \"Mexican\": [\"Tacos\", \"Tortas\", \"Arroz\"],\n",
    "        \"Desserts\": [\"Cheesecake\", \"Pie\", \"Cookies\", \"Cupcakes\"]\n",
    "    },\n",
    "    \"Alex\": {\n",
    "        \"Candy\": [\"Troli Eggs\", \"Lemonheads\", \"Nerds Rope\", \"Now & Later\"],\n",
    "        \"Protein\": [\"Chicken\", \"Ground Turkey\", \"Turkey Bacon\", \"PB&J\"]\n",
    "    },\n",
    "    \"Razvan\" : {\n",
    "        \"Italian\" : [\"Pizza\", \"Pasta\", \"Salad\"],\n",
    "        \"Deserts\" : [\"Pie\", \"Crepes\", \"Cake\", \"Fruits\"]\n",
    "    },\n",
    "    \"Mo\": {\n",
    "        \"Korean\": [\"Kimchi Tofu Stir-Fry\", \"Kimchi Stew\", \"Japchae\"],\n",
    "        \"Drinks\": [\"Milk Foam Green Tea\", \"Boba Milk Tea\", \"Fruit Tea\"]\n",
    "    },\n",
    "    \"Justin\": {\n",
    "        \"Persian\": [\"Kebabs\", \"Steak\", \"Tahdig\"],\n",
    "        \"Italian\": [\"Penne all Vodka\", \"Pizza\", \"Pesto Gnocchi\"]\n",
    "    },\n",
    "    \"Morgan\": {\n",
    "        \"Mexican\": [\"fajitas\",\"Burriatacos\", \"Quesadillas\"],\n",
    "        \"italian\": [\"pizza\", \"chicken Alfredo\"],\n",
    "        \"Dessert\": [\"Anything chocolate\"]\n",
    "    },\n",
    "    \"Will\": {\n",
    "        \"Pizza\": [\"Hawaiian\", \"Deepdish\", \"Pepperoni\"],\n",
    "        \"Candy\": [\"Hot Tamales\", \"Snickers\", \"Reeces\", \"Twix\"]\n",
    "    }\n",
    "}\n",
    "\n",
    "print(food_dict)\n",
    "\n",
    "\n",
    "\n",
    "\n",
    "\n",
    "\n"
   ]
  },
  {
   "cell_type": "code",
   "execution_count": 84,
   "metadata": {},
   "outputs": [
    {
     "name": "stdout",
     "output_type": "stream",
     "text": [
      "Pie\n",
      "Crepes\n",
      "Cake\n",
      "Fruits\n",
      "Cake\n",
      "Cake\n"
     ]
    }
   ],
   "source": [
    "# looing through Razvans deserts\n",
    "for food in food_dict[\"Razvan\"][\"Deserts\"]:\n",
    "    print(food)\n",
    "\n",
    "# Accesing a specific desert\n",
    "print(food_dict[\"Razvan\"][\"Deserts\"][2])\n",
    "\n",
    "# Setting \"cake\" to a variable name\n",
    "a_desert  = food_dict[\"Razvan\"][\"Deserts\"][2]\n",
    "print(a_desert)\n",
    "\n",
    "\n"
   ]
  },
  {
   "cell_type": "code",
   "execution_count": 85,
   "metadata": {},
   "outputs": [
    {
     "name": "stdout",
     "output_type": "stream",
     "text": [
      "Ryan\n",
      "Alex\n",
      "Razvan\n",
      "Mo\n",
      "Justin\n",
      "Morgan\n",
      "Will\n"
     ]
    }
   ],
   "source": [
    "# People in our food_dict\n",
    "\n",
    "for person in food_dict.keys():\n",
    "    print(person)"
   ]
  },
  {
   "cell_type": "code",
   "execution_count": 86,
   "metadata": {},
   "outputs": [
    {
     "name": "stdout",
     "output_type": "stream",
     "text": [
      "Mexican\n",
      "Desserts\n",
      "Candy\n",
      "Protein\n",
      "Italian\n",
      "Deserts\n",
      "Korean\n",
      "Drinks\n",
      "Persian\n",
      "Italian\n",
      "Mexican\n",
      "italian\n",
      "Dessert\n",
      "Pizza\n",
      "Candy\n"
     ]
    }
   ],
   "source": [
    "# types of food in food_dict\n",
    "for person in food_dict:\n",
    "    for  genre in food_dict[person]:\n",
    "        print(genre)"
   ]
  },
  {
   "cell_type": "code",
   "execution_count": 90,
   "metadata": {},
   "outputs": [
    {
     "name": "stdout",
     "output_type": "stream",
     "text": [
      "\n",
      "Here are all our favorite foods: \n",
      "\n",
      "\n",
      "Ryan's favorite foods are: \n",
      "Mexican\n",
      "Tacos\n",
      "Tortas\n",
      "Arroz\n",
      "Desserts\n",
      "Cheesecake\n",
      "Pie\n",
      "Cookies\n",
      "Cupcakes\n",
      "\n",
      "Alex's favorite foods are: \n",
      "Candy\n",
      "Troli Eggs\n",
      "Lemonheads\n",
      "Nerds Rope\n",
      "Now & Later\n",
      "Protein\n",
      "Chicken\n",
      "Ground Turkey\n",
      "Turkey Bacon\n",
      "PB&J\n",
      "\n",
      "Razvan's favorite foods are: \n",
      "Italian\n",
      "Pizza\n",
      "Pasta\n",
      "Salad\n",
      "Deserts\n",
      "Pie\n",
      "Crepes\n",
      "Cake\n",
      "Fruits\n",
      "\n",
      "Mo's favorite foods are: \n",
      "Korean\n",
      "Kimchi Tofu Stir-Fry\n",
      "Kimchi Stew\n",
      "Japchae\n",
      "Drinks\n",
      "Milk Foam Green Tea\n",
      "Boba Milk Tea\n",
      "Fruit Tea\n",
      "\n",
      "Justin's favorite foods are: \n",
      "Persian\n",
      "Kebabs\n",
      "Steak\n",
      "Tahdig\n",
      "Italian\n",
      "Penne all Vodka\n",
      "Pizza\n",
      "Pesto Gnocchi\n",
      "\n",
      "Morgan's favorite foods are: \n",
      "Mexican\n",
      "fajitas\n",
      "Burriatacos\n",
      "Quesadillas\n",
      "italian\n",
      "pizza\n",
      "chicken Alfredo\n",
      "Dessert\n",
      "Anything chocolate\n",
      "\n",
      "Will's favorite foods are: \n",
      "Pizza\n",
      "Hawaiian\n",
      "Deepdish\n",
      "Pepperoni\n",
      "Candy\n",
      "Hot Tamales\n",
      "Snickers\n",
      "Reeces\n",
      "Twix\n"
     ]
    }
   ],
   "source": [
    "# print everyones favourite foods\n",
    "print(\"\\nHere are all our favorite foods: \\n\")\n",
    "for person in food_dict.keys():\n",
    "    print(f\"\\n{person}'s favorite foods are: \")\n",
    "    for food_type in food_dict[person].keys():\n",
    "        print(food_type)\n",
    "        for food in food_dict[person][food_type]:\n",
    "            print(food)"
   ]
  },
  {
   "cell_type": "markdown",
   "metadata": {},
   "source": [
    "## Dictionaries vs. Lists (over time) Example of RUNTIME\n",
    "### When inputting values in a Dictionary vs List"
   ]
  },
  {
   "cell_type": "code",
   "execution_count": null,
   "metadata": {},
   "outputs": [],
   "source": [
    "import time\n",
    "\n",
    "#generate dictionary\n",
    "\n",
    "    \n",
    "\n",
    "    \n",
    "\n"
   ]
  },
  {
   "cell_type": "code",
   "execution_count": null,
   "metadata": {},
   "outputs": [],
   "source": [
    "#track the time for the dictionary\n",
    "\n",
    "\n",
    "\n",
    "        "
   ]
  },
  {
   "cell_type": "markdown",
   "metadata": {},
   "source": [
    "## Exercise #3 - Write a Function that asks someone's name and address, and then stores that into a dictionary, and continues to do so until they choose to 'quit'. Once they quit, the program should print all names and addresses. <br>\n",
    "<p>\n",
    "<b>Proper steps:</b><br>\n",
    "step 1: write a function that takes in information and stores it in a dictionary<br>\n",
    "step 2: define an empty dictionary to work with<br>\n",
    "step 3: create our loop, which asks the user for information until they quit<br>\n",
    "step 4: ask for the information, and store it into variables<br>\n",
    "step 5: check if the user types quit<br>\n",
    "step 5a: print out all information<br>\n",
    "step 5b: break out of the loop<br>\n",
    "step 6: if they didn't quit, add the information to the dictionary<br>\n",
    "step 7: invoke the function by calling it\n",
    "</p>"
   ]
  },
  {
   "cell_type": "code",
   "execution_count": 92,
   "metadata": {},
   "outputs": [
    {
     "name": "stdin",
     "output_type": "stream",
     "text": [
      "Enter a name or say 'quit' to quit:  ryan\n",
      "Enter a name or say 'quit' to quit:  123\n",
      "Enter a name or say 'quit' to quit:  eyo\n",
      "Enter a name or say 'quit' to quit:  ruben 123 very cool st\n",
      "Enter a name or say 'quit' to quit:  quit\n"
     ]
    },
    {
     "name": "stdout",
     "output_type": "stream",
     "text": [
      "The adress for ryan is ruben 123 very cool st\n",
      "The adress for eyo is ruben 123 very cool st\n"
     ]
    }
   ],
   "source": [
    "from IPython.display import clear_output\n",
    "# we are doing while loop not a funtion starting at step 2\n",
    "\n",
    "d = {}\n",
    "\n",
    "# 3\n",
    "while True:\n",
    "    #step 4\n",
    "    name = input(\"Enter a name or say 'quit' to quit: \")\n",
    "    if name.lower() != 'quit':\n",
    "        address = input(\"Enter a name or say 'quit' to quit: \")\n",
    "    #step 5\n",
    "    if name.lower() == \"quit\" or address.lower() == \"quit\":\n",
    "        #step 5a\n",
    "        for name, adress in d.items():\n",
    "            print(f\"The adress for {name} is {address}\")\n",
    "        #step 5b\n",
    "        break\n",
    "\n",
    "    d[name] = address #step 6\n",
    "\n",
    "# step 7, pretend we called a function\n",
    "\n",
    "\n",
    "\n",
    "\n",
    "            \n",
    "        \n",
    "        "
   ]
  },
  {
   "cell_type": "code",
   "execution_count": 101,
   "metadata": {},
   "outputs": [
    {
     "name": "stdin",
     "output_type": "stream",
     "text": [
      "What would you like to add?  bananas\n",
      "How many would you like to add?  2\n",
      "What would you like to add?  apples\n",
      "How many would you like to add?  3\n",
      "What would you like to add?  oranges\n",
      "How many would you like to add?  3\n",
      "What would you like to add?  quit\n"
     ]
    },
    {
     "name": "stdout",
     "output_type": "stream",
     "text": [
      "{'bananas': '2', 'apples': '3', 'oranges': '3'}\n"
     ]
    }
   ],
   "source": [
    "cart = {}\n",
    "\n",
    "while True:\n",
    "    item = input(\"What would you like to add? \")\n",
    "    if item.lower() != \"quit\":\n",
    "        quantity = input(\"How many would you like to add? \")\n",
    "    if item.lower() == \"quit\" or quantity.lower() == \"quit\":\n",
    "        print(cart)\n",
    "        break\n",
    "    cart[item] = quantity"
   ]
  },
  {
   "cell_type": "markdown",
   "metadata": {},
   "source": [
    "## Set <br>\n",
    "<p>A Set is an unordered collection data type that is iterable (loop), mutable, and has no duplicate elements.<br>Major advantage is that it is highly optimized in checking if something is in the set, as opposed to checking if something is in a list.</p>"
   ]
  },
  {
   "cell_type": "markdown",
   "metadata": {},
   "source": [
    "##### Declaring"
   ]
  },
  {
   "cell_type": "code",
   "execution_count": 107,
   "metadata": {},
   "outputs": [
    {
     "name": "stdout",
     "output_type": "stream",
     "text": [
      "{8, 1, 4}\n",
      "{1, 4, 5, 6, 7, 8, 9}\n"
     ]
    }
   ],
   "source": [
    "# set() or {}\n",
    "# no order {3, 2, 1} outputs as {1, 2, 3}\n",
    "# elements are hashed like a dictionary\n",
    "\n",
    "nums = {4, 1, 8, 4}\n",
    "print(nums)\n",
    "\n",
    "\n",
    "my_list = [1,1,1,1,1,4,5,6,6,6,6,6,6,6,7,7,8,9,9,9,9,9,9]\n",
    "my_set = set(my_list)\n",
    "print(my_set)\n"
   ]
  },
  {
   "cell_type": "code",
   "execution_count": 106,
   "metadata": {
    "scrolled": true
   },
   "outputs": [
    {
     "name": "stdout",
     "output_type": "stream",
     "text": [
      "{1, 4, 5, 6, 7, 8, 9}\n",
      "[1, 4, 5, 6, 7, 8, 9]\n"
     ]
    }
   ],
   "source": [
    "#remove all duplicates from the list\n",
    "my_list = [1,1,1,1,1,4,5,6,6,6,6,6,6,6,7,7,8,9,9,9,9,9,9]\n",
    "my_set = set(my_list)\n",
    "print(my_set)\n",
    "my_list = list(my_set)\n",
    "print(my_list)\n"
   ]
  },
  {
   "cell_type": "markdown",
   "metadata": {},
   "source": [
    "##### .add()"
   ]
  },
  {
   "cell_type": "code",
   "execution_count": 110,
   "metadata": {},
   "outputs": [
    {
     "name": "stdout",
     "output_type": "stream",
     "text": [
      "{2, 4, 5, 7, 9}\n",
      "{2, 4, 5, 22, 7, 9}\n",
      "{2, 4, 5, 22, 7, 9, 'Hello'}\n"
     ]
    }
   ],
   "source": [
    "# set.add()\n",
    "my_set = {2, 5, 4, 7, 9}\n",
    "print(my_set)\n",
    "my_set.add(22)\n",
    "print(my_set)\n",
    "my_set.add(\"Hello\")\n",
    "print(my_set)\n",
    "\n",
    "\n"
   ]
  },
  {
   "cell_type": "markdown",
   "metadata": {},
   "source": [
    "##### .remove()"
   ]
  },
  {
   "cell_type": "code",
   "execution_count": 113,
   "metadata": {},
   "outputs": [
    {
     "name": "stdout",
     "output_type": "stream",
     "text": [
      "{2, 4, 5, 7, 9, 'Hello'}\n"
     ]
    },
    {
     "ename": "KeyError",
     "evalue": "22",
     "output_type": "error",
     "traceback": [
      "\u001b[1;31m---------------------------------------------------------------------------\u001b[0m",
      "\u001b[1;31mKeyError\u001b[0m                                  Traceback (most recent call last)",
      "Cell \u001b[1;32mIn[113], line 4\u001b[0m\n\u001b[0;32m      1\u001b[0m \u001b[38;5;66;03m# removes by value\u001b[39;00m\n\u001b[0;32m      2\u001b[0m \u001b[38;5;66;03m# set.remove()\u001b[39;00m\n\u001b[0;32m      3\u001b[0m \u001b[38;5;28mprint\u001b[39m(my_set)\n\u001b[1;32m----> 4\u001b[0m \u001b[43mmy_set\u001b[49m\u001b[38;5;241;43m.\u001b[39;49m\u001b[43mremove\u001b[49m\u001b[43m(\u001b[49m\u001b[38;5;241;43m22\u001b[39;49m\u001b[43m)\u001b[49m\n\u001b[0;32m      5\u001b[0m \u001b[38;5;28mprint\u001b[39m(my_set)\n",
      "\u001b[1;31mKeyError\u001b[0m: 22"
     ]
    }
   ],
   "source": [
    "# removes by value\n",
    "# set.remove()\n",
    "print(my_set)\n",
    "my_set.remove(22)\n",
    "print(my_set)\n",
    "\n"
   ]
  },
  {
   "cell_type": "markdown",
   "metadata": {},
   "source": [
    "##### .union() "
   ]
  },
  {
   "cell_type": "code",
   "execution_count": 123,
   "metadata": {},
   "outputs": [
    {
     "name": "stdout",
     "output_type": "stream",
     "text": [
      "{1, 2, 3, 4, 5, 6}\n",
      "{1, 2, 3, 4, 5, 6, 7, 8}\n"
     ]
    }
   ],
   "source": [
    "# Returns a union of two sets, can also use '|' or set.union(set)\n",
    "# joins all numbers, gets rid of duplicates\n",
    "s1 = {1, 2, 3, 4}\n",
    "s2 = {3, 4, 5, 6}\n",
    "\n",
    "s3 = s1.union(s2)\n",
    "print(s3)\n",
    "\n",
    "# or\n",
    "\n",
    "s4 = s2 | s1 | s5\n",
    "print(s4)\n"
   ]
  },
  {
   "cell_type": "markdown",
   "metadata": {},
   "source": [
    "##### .intersection()"
   ]
  },
  {
   "cell_type": "code",
   "execution_count": 120,
   "metadata": {},
   "outputs": [
    {
     "name": "stdout",
     "output_type": "stream",
     "text": [
      "{3, 4}\n",
      "{3, 4}\n"
     ]
    }
   ],
   "source": [
    "# Returns an intersection of two sets, can also use '&'\n",
    "# only takes similar elements from both sets\n",
    "\n",
    "s1 = {1, 2, 3, 4}\n",
    "s2 = {3, 4, 5, 6}\n",
    "s5 = {3, 4, 7, 8}\n",
    "\n",
    "\n",
    "s3 = s2.intersection(s1)\n",
    "print(s3)\n",
    "\n",
    "# or\n",
    "\n",
    "s4 = s2 & s1 & s5\n",
    "print(s4)"
   ]
  },
  {
   "cell_type": "markdown",
   "metadata": {},
   "source": [
    "##### .difference()"
   ]
  },
  {
   "cell_type": "code",
   "execution_count": 127,
   "metadata": {},
   "outputs": [
    {
     "name": "stdout",
     "output_type": "stream",
     "text": [
      "{1, 2}\n",
      "{5, 6}\n",
      "{1, 2}\n",
      "{5, 6}\n"
     ]
    }
   ],
   "source": [
    "# Returns a set containing all the elements of invoking set that are not in the second set, can also use '-'\n",
    "# only takes values from the first set that are not in the second set\n",
    "# order matters\n",
    "s1 = {1, 2, 3, 4}\n",
    "s2 = {3, 4, 5, 6}\n",
    "\n",
    "s3 = s1.difference(s2)\n",
    "print(s3)\n",
    "s4 = s2.difference(s1)\n",
    "print(s4)\n",
    "\n",
    "# or\n",
    "\n",
    "s5 = s1 - s2\n",
    "print(s5)\n",
    "\n",
    "s6 = s2 - s1\n",
    "print(s6)"
   ]
  },
  {
   "cell_type": "markdown",
   "metadata": {},
   "source": [
    "##### .clear()"
   ]
  },
  {
   "cell_type": "code",
   "execution_count": 129,
   "metadata": {},
   "outputs": [
    {
     "name": "stdout",
     "output_type": "stream",
     "text": [
      "{5, 6}\n",
      "set()\n"
     ]
    }
   ],
   "source": [
    "# Empties the whole set\n",
    "# set.clear()\n",
    "print(s6)\n",
    "s6.clear()\n",
    "print(s6)"
   ]
  },
  {
   "cell_type": "markdown",
   "metadata": {},
   "source": [
    "##### Frozenset <br>\n",
    "<p>Frozen sets are immutable objects that only support methods and operators that produce a result without affecting the frozen set or sets to which they are applied.</p><br><b>Unique & Immutable</b>"
   ]
  },
  {
   "cell_type": "code",
   "execution_count": 134,
   "metadata": {},
   "outputs": [
    {
     "name": "stdout",
     "output_type": "stream",
     "text": [
      "{2, 3, 4, 5, 7, 'my dog is neat', 'hello'}\n",
      "frozenset({2, 3, 4, 5, 7, 'my dog is neat', 'hello'})\n",
      "{2, 3, 4, 5, 7, 'my dog is neat', 'hello'}\n",
      "{2, 3, 4, 5, 7, 'cool beans', 'my dog is neat', 'hello'}\n",
      "frozenset({2, 3, 4, 5, 7, 'hello', 'my dog is neat', 'cool beans'})\n"
     ]
    }
   ],
   "source": [
    "# frozenset([])\n",
    "\n",
    "my_set = {2, 3, 4, \"hello\", 7, \"my dog is neat\", 5}\n",
    "\n",
    "print(my_set)\n",
    "\n",
    "frozen_set = frozenset(my_set)\n",
    "print(frozen_set)\n",
    "\n",
    "# cannot add or remove because they are immutable\n",
    "# frozen_set.add(22)\n",
    "# frozen_set.remove(\"hello\")\n",
    "\n",
    "my_new_set = set(frozen_set)\n",
    "print(my_new_set)\n",
    "my_new_set.add(\"cool beans\")\n",
    "print(my_new_set)\n",
    "frozen_set = frozenset(my_new_set)\n",
    "print(frozen_set)"
   ]
  },
  {
   "cell_type": "markdown",
   "metadata": {},
   "source": [
    "# Exercises"
   ]
  },
  {
   "cell_type": "markdown",
   "metadata": {},
   "source": [
    "### 1) Build a Shopping Cart <br>\n",
    "<p><b>You can use either lists or dictionaries. The program should have the following capabilities:</b><br><br>\n",
    "1) Takes in input <br>\n",
    "2) Stores user input into a dictionary or list <br>\n",
    "3) The User can add or delete items <br>\n",
    "4) The User can see current shopping list <br>\n",
    "5) The program Loops until user 'quits' <br>\n",
    "6) Upon quiting the program, print out all items in the user's list <br>\n",
    "</p>"
   ]
  },
  {
   "cell_type": "code",
   "execution_count": 10,
   "metadata": {},
   "outputs": [
    {
     "name": "stdin",
     "output_type": "stream",
     "text": [
      "what would you like to add?  bananas\n",
      "How many would you like to add?  3\n"
     ]
    },
    {
     "name": "stdout",
     "output_type": "stream",
     "text": [
      "3 bananas(s) added to your cart.\n"
     ]
    },
    {
     "name": "stdin",
     "output_type": "stream",
     "text": [
      "what would you like to add?  oranges\n",
      "How many would you like to add?  4\n"
     ]
    },
    {
     "name": "stdout",
     "output_type": "stream",
     "text": [
      "4 oranges(s) added to your cart.\n"
     ]
    },
    {
     "name": "stdin",
     "output_type": "stream",
     "text": [
      "what would you like to add?  apples \n",
      "How many would you like to add?  5\n"
     ]
    },
    {
     "name": "stdout",
     "output_type": "stream",
     "text": [
      "5 apples (s) added to your cart.\n"
     ]
    },
    {
     "name": "stdin",
     "output_type": "stream",
     "text": [
      "what would you like to add?  quit\n"
     ]
    },
    {
     "name": "stdout",
     "output_type": "stream",
     "text": [
      "{'bananas': 3, 'oranges': 4, 'apples ': 5}\n"
     ]
    }
   ],
   "source": [
    "from IPython.display import clear_output\n",
    "\n",
    "# Ask the user four bits of input: Do you want to : Show/Add/Delete or Quit?\n",
    "mycart = {}\n",
    "\n",
    "while True:\n",
    "    item = input(\"what would you like to add? \")\n",
    "\n",
    "    if item.lower() == \"quit\":\n",
    "        print(mycart)\n",
    "        break\n",
    "\n",
    "    quantity = input(\"How many would you like to add? \")\n",
    "\n",
    "    if quantity.lower() == \"quit\":\n",
    "        print(mycart)\n",
    "        break\n",
    "    mycart[item] = int(quantity)\n",
    "    print(f\"{quantity} {item}(s) added to your cart.\")\n",
    "\n",
    "# I cannot make it print the list at the moment\n"
   ]
  },
  {
   "cell_type": "markdown",
   "metadata": {},
   "source": [
    "### 2) Set Practice"
   ]
  },
  {
   "cell_type": "markdown",
   "metadata": {},
   "source": [
    "<p><b>Remove all duplicates from the following list</b></p>"
   ]
  },
  {
   "cell_type": "code",
   "execution_count": 139,
   "metadata": {},
   "outputs": [
    {
     "name": "stdout",
     "output_type": "stream",
     "text": [
      "{1, 2, 3, 4, 5, 6, 11, 12, 14, 16}\n"
     ]
    }
   ],
   "source": [
    "nums_list = [1, 1, 1, 2, 2, 3, 5, 6, 4, 12, 11, 12, 12, 14, 16, 16, 16, 1, 1, 1, 2, 2]\n",
    "nodupes = set(nums_list)\n",
    "print(nodupes)"
   ]
  },
  {
   "cell_type": "markdown",
   "metadata": {},
   "source": [
    "<p><b>Out put the intersection of the following the following sets.</b></p>"
   ]
  },
  {
   "cell_type": "code",
   "execution_count": 141,
   "metadata": {},
   "outputs": [
    {
     "name": "stdout",
     "output_type": "stream",
     "text": [
      "{26, 27}\n",
      "{26, 27}\n"
     ]
    }
   ],
   "source": [
    "set1 = {20, 24, 26, 27}\n",
    "set2 = {26, 35, 63, 27}\n",
    "set3 = set1.intersection(set2)\n",
    "print(set3)\n",
    "set4 = set1 & set2\n",
    "print(set4)"
   ]
  },
  {
   "cell_type": "markdown",
   "metadata": {},
   "source": [
    "<p><b>Output the difference between the following sets</b></p>"
   ]
  },
  {
   "cell_type": "code",
   "execution_count": 143,
   "metadata": {},
   "outputs": [
    {
     "name": "stdout",
     "output_type": "stream",
     "text": [
      "{89, 100}\n",
      "{89, 100}\n"
     ]
    }
   ],
   "source": [
    "set3 = {100, 65, 89, 200}\n",
    "set4 = {65, 103, 54, 200}\n",
    "set5 = set3.difference(set4)\n",
    "print(set5)\n",
    "set6 = set3 - set4\n",
    "print(set6)"
   ]
  },
  {
   "cell_type": "code",
   "execution_count": null,
   "metadata": {},
   "outputs": [],
   "source": []
  }
 ],
 "metadata": {
  "kernelspec": {
   "display_name": "Python 3 (ipykernel)",
   "language": "python",
   "name": "python3"
  },
  "language_info": {
   "codemirror_mode": {
    "name": "ipython",
    "version": 3
   },
   "file_extension": ".py",
   "mimetype": "text/x-python",
   "name": "python",
   "nbconvert_exporter": "python",
   "pygments_lexer": "ipython3",
   "version": "3.12.1"
  }
 },
 "nbformat": 4,
 "nbformat_minor": 4
}
